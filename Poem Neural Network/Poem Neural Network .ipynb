{
 "cells": [
  {
   "cell_type": "code",
   "execution_count": 41,
   "id": "53d9842a",
   "metadata": {},
   "outputs": [],
   "source": [
    "import random\n",
    "import numpy as np\n",
    "import tensorflow as tf\n",
    "from tensorflow.keras.models import Sequential\n",
    "from tensorflow.keras.layers import LSTM, Dense, Activation \n",
    "from tensorflow.keras.optimizers import RMSprop"
   ]
  },
  {
   "cell_type": "code",
   "execution_count": 42,
   "id": "4695c9dd",
   "metadata": {},
   "outputs": [],
   "source": [
    "filepath = tf.keras.utils.get_file('shakespeare.txt', 'https://storage.googleapis.com/download.tensorflow.org/data/shakespeare.txt')\n",
    "\n",
    "text = open(filepath, 'rb').read().decode(encoding='utf-8').lower()\n",
    "\n",
    "characters = sorted(set(text))\n",
    "\n",
    "char_to_index = dict((c, i) for i, c in enumerate(characters))\n",
    "index_to_char = dict((i, c) for i, c in enumerate(characters))"
   ]
  },
  {
   "cell_type": "code",
   "execution_count": 43,
   "id": "40e3714b",
   "metadata": {},
   "outputs": [],
   "source": [
    "SEQ_LENGTH = 40\n",
    "STEP_SIZE = 3\n",
    "\n",
    "sentences = []\n",
    "next_characters = []\n",
    "\n",
    "for i in range(0, len(text) - SEQ_LENGTH, STEP_SIZE):\n",
    "    sentences.append(text[i: i+SEQ_LENGTH])\n",
    "    next_characters.append(text[i+SEQ_LENGTH])"
   ]
  },
  {
   "cell_type": "code",
   "execution_count": 46,
   "id": "3b190795",
   "metadata": {},
   "outputs": [],
   "source": [
    "x = np.zeros((len(sentences), SEQ_LENGTH, len(characters)), dtype=bool)\n",
    "y = np.zeros((len(sentences), len(characters)), dtype=bool)\n",
    "\n",
    "for i, sentence in enumerate(sentences):\n",
    "    for t, character in enumerate(sentence):\n",
    "        x[i, t, char_to_index[character]] = 1\n",
    "        y[i, char_to_index[next_characters[i]]] = 1"
   ]
  },
  {
   "cell_type": "code",
   "execution_count": 47,
   "id": "93ef6050",
   "metadata": {},
   "outputs": [
    {
     "name": "stdout",
     "output_type": "stream",
     "text": [
      "Epoch 1/4\n",
      "WARNING:tensorflow:From C:\\Users\\Natha\\anaconda3\\Lib\\site-packages\\keras\\src\\utils\\tf_utils.py:492: The name tf.ragged.RaggedTensorValue is deprecated. Please use tf.compat.v1.ragged.RaggedTensorValue instead.\n",
      "\n"
     ]
    },
    {
     "name": "stderr",
     "output_type": "stream",
     "text": [
      "WARNING:tensorflow:From C:\\Users\\Natha\\anaconda3\\Lib\\site-packages\\keras\\src\\utils\\tf_utils.py:492: The name tf.ragged.RaggedTensorValue is deprecated. Please use tf.compat.v1.ragged.RaggedTensorValue instead.\n",
      "\n"
     ]
    },
    {
     "name": "stdout",
     "output_type": "stream",
     "text": [
      "1453/1453 [==============================] - 380s 259ms/step - loss: 1.9355\n",
      "Epoch 2/4\n",
      "1453/1453 [==============================] - 379s 261ms/step - loss: 1.5894\n",
      "Epoch 3/4\n",
      "1453/1453 [==============================] - 164s 113ms/step - loss: 1.5040\n",
      "Epoch 4/4\n",
      "1453/1453 [==============================] - 131s 90ms/step - loss: 1.4608\n",
      "INFO:tensorflow:Assets written to: textgenerator.model\\assets\n"
     ]
    },
    {
     "name": "stderr",
     "output_type": "stream",
     "text": [
      "INFO:tensorflow:Assets written to: textgenerator.model\\assets\n"
     ]
    }
   ],
   "source": [
    "# model = Sequential()\n",
    "# model.add(LSTM(128, input_shape=(SEQ_LENGTH, len(characters))))\n",
    "# model.add(Dense(len(characters)))\n",
    "# model.add(Activation('softmax'))\n",
    "          \n",
    "# model.compile(loss='categorical_crossentropy', optimizer=RMSprop(learning_rate=0.01))\n",
    "# model.fit(x, y, batch_size=256, epochs=4)\n",
    "# model.save('textgenerator.model')\n"
   ]
  },
  {
   "cell_type": "code",
   "execution_count": 49,
   "id": "f1b317df",
   "metadata": {},
   "outputs": [
    {
     "name": "stdout",
     "output_type": "stream",
     "text": [
      "------------0.2------------\n",
      "vers:\n",
      "then cursed she hastings, then curse them heart\n",
      "the brother to the father to my part him\n",
      "the lady with the more to the prince to the land.\n",
      "\n",
      "gloucester:\n",
      "where is the body to the house is the last\n",
      "to the last of the great of the duke to the heart,\n",
      "and the duke of him to the heart to him,\n",
      "and the honour to the prince to the stand,\n",
      "the \n",
      "------------0.4------------\n",
      " midnight sleep,\n",
      "by jove, 'twould be my hour, this words and stands thee more.\n",
      "\n",
      "first citizen:\n",
      "o the change of the dead him be the life,\n",
      "the lord and sir, between their first than were\n",
      "the gloucester such as the lands in the last,\n",
      "the still when i not me in the heart to be my head.\n",
      "\n",
      "juliet:\n",
      "on the children him i do not be many sin\n",
      "to my h\n",
      "------------0.6------------\n",
      ".\n",
      "'tis beauty that doth oft make women prince\n",
      "to my remembers to the men of her for which things, shall the virture.\n",
      "\n",
      "petruchio:\n",
      "the citile in life, did many in the world.\n",
      "\n",
      "brutus:\n",
      "which with the words of remor mercy tend\n",
      "one dear servent him her have the king of not.\n",
      "\n",
      "gloucester:\n",
      "keep you are and in ears him, but the veate,\n",
      "that here i s\n",
      "------------0.8------------\n",
      "et:\n",
      "go ask his name: if he be married.\n",
      "make this is many horse\n",
      "that this believe him, and bardents, and is her,\n",
      "the carrious father: did them save how throe'd;\n",
      "the hopsion too breed in suse i most men with him:\n",
      "the remember after strikes, and lady the great.\n",
      "\n",
      "duke vincentio:\n",
      "good to again she hope.\n",
      "\n",
      "third murdie:\n",
      "do not i love my cousin w\n",
      "------------1.0------------\n",
      "d: he covets less\n",
      "than misery itself wounds me to the protecture,\n",
      "but replais me; then axtrxetue that you touch of his seas,\n",
      "but the god storn sold bring you shall gone, and fixld,\n",
      "becomes in o: the ene but thy heady's; and\n",
      "my tempt you, romao, here is suff meanss to shorm\n",
      "their sirest i perasades bring : sir, good\n",
      "proples priminish me in\n"
     ]
    }
   ],
   "source": [
    "model = tf.keras.models.load_model('textgenerator.model')\n",
    "\n",
    "def sample(preds, temperature=1.0):\n",
    "    preds = np.asarray(preds).astype('float64')\n",
    "    preds = np.log(preds) / temperature\n",
    "    exp_preds = np.exp(preds)\n",
    "    preds = exp_preds / np.sum(exp_preds)\n",
    "    probas = np.random.multinomial(1, preds, 1)\n",
    "    return np.argmax(probas)\n",
    "\n",
    "def generate_text(length, temperature):\n",
    "    start_index = random.randint(0, len(text) - SEQ_LENGTH - 1)\n",
    "    generated = ''\n",
    "    sentence = text[start_index: start_index + SEQ_LENGTH]\n",
    "    generated += sentence\n",
    "    \n",
    "    for i in range(length):\n",
    "        x = np.zeros((1, SEQ_LENGTH, len(characters)))\n",
    "        for t,character in enumerate(sentence):\n",
    "            x[0, t, char_to_index[character]] = 1\n",
    "            \n",
    "        predictions = model.predict(x, verbose=0)[0]\n",
    "        next_index = sample(predictions, temperature)\n",
    "        next_character = index_to_char[next_index]\n",
    "        \n",
    "        generated += next_character\n",
    "        sentence = sentence[1:] + next_character\n",
    "\n",
    "    return generated\n",
    "\n",
    "print('------------0.2------------')\n",
    "print(generate_text(300, 0.2))\n",
    "print('------------0.4------------')\n",
    "print(generate_text(300, 0.4))\n",
    "print('------------0.6------------')\n",
    "print(generate_text(300, 0.6))\n",
    "print('------------0.8------------')\n",
    "print(generate_text(300, 0.8))\n",
    "print('------------1.0------------')\n",
    "print(generate_text(300, 1.0))"
   ]
  },
  {
   "cell_type": "code",
   "execution_count": null,
   "id": "96c4ddb7",
   "metadata": {},
   "outputs": [],
   "source": []
  }
 ],
 "metadata": {
  "kernelspec": {
   "display_name": "Python 3 (ipykernel)",
   "language": "python",
   "name": "python3"
  },
  "language_info": {
   "codemirror_mode": {
    "name": "ipython",
    "version": 3
   },
   "file_extension": ".py",
   "mimetype": "text/x-python",
   "name": "python",
   "nbconvert_exporter": "python",
   "pygments_lexer": "ipython3",
   "version": "3.11.5"
  }
 },
 "nbformat": 4,
 "nbformat_minor": 5
}
